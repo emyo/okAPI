{
 "cells": [
  {
   "cell_type": "markdown",
   "metadata": {},
   "source": [
    "# How do I _copy_ a file from another one of _my projects_?\n",
    "## Overview\n",
    "Files are stored on the Platform in two spaces: [Public Reference Files](http://docs.sevenbridges.com/docs/file-repositories) and projects of which you're a member. Files can be copied from these two repositories.\n",
    "\n",
    "## Objective\n",
    "Here, we focus on **copying a file from your own project**. [[reference](http://docs.sevenbridges.com/docs/copy-a-file)]\n",
    "\n",
    "## Procedure\n",
    "1. We'll list all our projects to find our source and target projects.\n",
    "2. Then, we'll list the files within the two projects.\n",
    "3. Lastly, we'll copy a file from the source project to the target project.\n",
    "\n",
    "## Prerequisites\n",
    " 1. You need to be a member (or owner) of at least one project. Learn more about creating a new project. [[recipe](projects_makeNew.ipynb)] [[reference](http://docs.sevenbridges.com/docs/create-a-new-project)].\n",
    " 2. You need your **authentication token** and the API needs to know about it. See <a href=\"Setup_API_environment.ipynb\">Setup_API_environment.ipynb</a> for details. Learn more about [obtaining your authentication token](http://docs.sevenbridges.com/v1.0/docs/get-your-authentication-token).\n",
    " 3. You understand how to list projects of which you are a member. We will use this call directly to select a project below. [[recipe](projects_listAll.ipynb)] [[reference](http://docs.sevenbridges.com/docs/list-all-your-projects)]\n",
    " 5. You understand how to list files within a project. We will use this call below and select a file. [[recipe](files_listAll.ipynb)] [[reference](http://docs.sevenbridges.com/docs/list-files-primary-method)]\n",
    "\n",
    "Note that as with all okAPI recipes, this recipe makes use of the [Seven Bridges Public API Python library](../Tutorials/SBPLAT/Setup_API_environment.ipynb)\n",
    " \n",
    "## Imports\n",
    "We import the `Api` class from the official `sevenbridges-python` bindings below."
   ]
  },
  {
   "cell_type": "code",
   "execution_count": null,
   "metadata": {
    "collapsed": true
   },
   "outputs": [],
   "source": [
    "import sevenbridges as sbg"
   ]
  },
  {
   "cell_type": "markdown",
   "metadata": {},
   "source": [
    "## Initialize the object\n",
    "The `Api` object needs to know your **auth\\_token** and the correct path. Here we assume you are using the .sbgrc file in your home directory. For other options see <a href=\"Setup_API_environment.ipynb\">Setup_API_environment.ipynb</a>"
   ]
  },
  {
   "cell_type": "code",
   "execution_count": null,
   "metadata": {
    "collapsed": true
   },
   "outputs": [],
   "source": [
    "# [USER INPUT] specify platform {cgc, sbpla, etc}\n",
    "prof = 'sbpla'\n",
    "\n",
    "\n",
    "config_file = sbg.Config(profile=prof)\n",
    "api = sbg.Api(config=config_file)"
   ]
  },
  {
   "cell_type": "markdown",
   "metadata": {},
   "source": [
    "## Copy a file from another project\n",
    "First, we will list all projects to find our source project, `source\\_project`, and our target project, `my\\_project_`. Then, we'll list the files within the source project. We'll check that this file doesn't already exist in the target project. If it doesn't exist, we'll copy the file from `source\\_project` to `my\\_project`.\n",
    "\n",
    "The critical information for this POST is the **`file_id`**. Note, you are allow to copy the same file as many times as you like. However, duplicates will be automatically have a prefix attached of (\\_1\\_, \\_2\\_, etc) depending on how many times you copy the file.\n",
    "\n",
    "To make these results very obvious, use an empty project as your `MY\\_PROJECT` (e.g. your <a href=projects_makeNew.ipynb> cookbook example project</a>) or change the `name` in the `data` dictionary to something like 'Dept of Awesome.copy'."
   ]
  },
  {
   "cell_type": "code",
   "execution_count": null,
   "metadata": {
    "collapsed": false
   },
   "outputs": [],
   "source": [
    "# [USER INPUT] Set your project name; source project name; and file (f_) indices here:\n",
    "source_project_name = 'Keep on Smiling'        \n",
    "my_project_name = 'cicipici'\n",
    "f_index = 0                                     # file to copy\n",
    "\n",
    "\n",
    "# Find TARGET and YOUR projects\n",
    "source_project = [p for p in api.projects.query(limit=100).all()\n",
    "                  if p.name == source_project_name]\n",
    "\n",
    "my_project = [p for p in api.projects.query(limit=100).all() \n",
    "                  if p.name == my_project_name]\n",
    "\n",
    "# Double-check that all projects exist\n",
    "if not source_project:\n",
    "    print('Source project {} not found, check spelling'.format(\n",
    "        source_project_name))\n",
    "    raise KeyboardInterrupt\n",
    "else:\n",
    "    source_project = source_project[0]\n",
    "    \n",
    "if not my_project:\n",
    "    print('Target project {} not found, check spelling'.format(\n",
    "            my_project_name))\n",
    "    raise KeyboardInterrupt\n",
    "else:\n",
    "    my_project = my_project[0]\n",
    "\n",
    "# LIST all files in the source and target project\n",
    "my_files = api.files.query(limit = 100, project = my_project)\n",
    "source_files = api.files.query(limit = 100, project = source_project)\n",
    "\n",
    "# pop out the file names \n",
    "my_file_names = [f.name for f in my_files.all()]\n",
    "source_file_names = [f.name for f in source_files.all()]\n",
    "\n",
    "# Check if first file already exists in the target project\n",
    "if source_file_names[f_index] in my_file_names:\n",
    "    print('File already exists in second project, skipping.')\n",
    "else:\n",
    "    print('File {} does not exist in project {}; copying now.'.format(\n",
    "            source_file_names[f_index], my_project.id))\n",
    "    \n",
    "    source_file = [f for f in source_files.all() \n",
    "                  if f.name == source_file_names[f_index]][0]\n",
    "    \n",
    "    my_new_file = source_file.copy(project = my_project.id,\n",
    "                                   name = source_file.name)\n",
    "\n",
    "    # re-list files in target project to verify the copy worked\n",
    "    my_files = [f.name for f in api.files.query(\n",
    "            limit = 100, project = my_project.id).all()]\n",
    "    \n",
    "    if source_file.name in my_files:\n",
    "        print('Sucessfully copied one file!')\n",
    "    else:\n",
    "        print('Something went wrong...')"
   ]
  },
  {
   "cell_type": "markdown",
   "metadata": {},
   "source": [
    "## Additional Information\n",
    "Detailed documentation of this particular REST architectural style request is available [here](http://docs.sevenbridges.com/docs/copy-a-file)."
   ]
  }
 ],
 "metadata": {
  "kernelspec": {
   "display_name": "Python 2",
   "language": "python",
   "name": "python2"
  },
  "language_info": {
   "codemirror_mode": {
    "name": "ipython",
    "version": 2
   },
   "file_extension": ".py",
   "mimetype": "text/x-python",
   "name": "python",
   "nbconvert_exporter": "python",
   "pygments_lexer": "ipython2",
   "version": "2.7.12"
  }
 },
 "nbformat": 4,
 "nbformat_minor": 0
}
