{
 "cells": [
  {
   "cell_type": "markdown",
   "metadata": {},
   "source": [
    "# What are the details (metadata) of one of my _files_?\n",
    "## Overview\n",
    "Obtaining a single file's details provides information about the file's name, its tags, and its metadata. The file must be located in a project that you can access. This can be a file that has been uploaded to the Seven Bridges Platform by a project member or a file that has been copied to the project.\n",
    "\n",
    "As with any **detail**-type call, we will get extensive information about one file but must first know that files's id.\n",
    "\n",
    "## Objective\n",
    "Here, we focus on **getting the details from a single file**. [[reference](http://docs.sevenbridges.com/docs/get-file-details)]\n",
    "\n",
    "## Procedure\n",
    "1. We'll list all our projects to find our project.\n",
    "2. Then, we'll list all our files within this project.\n",
    "3. Lastly, we'll get the details of the first file in this project.\n",
    " \n",
    "## Prerequisites\n",
    " 1. You need to be a member (or owner) of at least one project. Learn more about creating a new project. [[recipe](projects_makeNew.ipynb)] [[reference](http://docs.sevenbridges.com/docs/create-a-new-project)].\n",
    " 2. You need your **authentication token** and the API needs to know about it. See <a href=\"Setup_API_environment.ipynb\">Setup_API_environment.ipynb</a> for details. Learn more about [obtaining your authentication token](http://docs.sevenbridges.com/v1.0/docs/get-your-authentication-token).\n",
    " 3. You understand how to list projects of which you are a member. We will use this call directly to select a project below. [[recipe](projects_listAll.ipynb)] [[reference](http://docs.sevenbridges.com/docs/list-all-your-projects)]\n",
    " 4. Your project needs to have at least one file. If not, you can copy one from the Public Reference Files repository. [[recipe](files_copyFromPublicReference)] [[reference](http://docs.sevenbridges.com/docs/copy-a-file)]\n",
    " 5. You understand how to list files within a project. We will use this call below and select a file. [[recipe](files_listAll.ipynb)] [[reference](http://docs.sevenbridges.com/docs/list-files-primary-method)]\n",
    "\n",
    "Note that as with all okAPI recipes, this recipe makes use of the [Seven Bridges Public API Python library](../Tutorials/SBPLAT/Setup_API_environment.ipynb).\n",
    " \n",
    "## Imports\n",
    "We import the `Api` class from the official `sevenbridges-python` bindings below."
   ]
  },
  {
   "cell_type": "code",
   "execution_count": null,
   "metadata": {
    "collapsed": true
   },
   "outputs": [],
   "source": [
    "import sevenbridges as sbg"
   ]
  },
  {
   "cell_type": "markdown",
   "metadata": {},
   "source": [
    "## Initialize the object\n",
    "The `Api` object needs to know your **auth\\_token** and the correct path. Here we assume you are using the .sbgrc file in your home directory. For other options see <a href=\"Setup_API_environment.ipynb\">Setup_API_environment.ipynb</a>"
   ]
  },
  {
   "cell_type": "code",
   "execution_count": null,
   "metadata": {
    "collapsed": true
   },
   "outputs": [],
   "source": [
    "# [USER INPUT] specify platform {cgc, sbpla, etc}\n",
    "prof = 'sbpla'\n",
    "\n",
    "\n",
    "config_file = sbg.Config(profile=prof)\n",
    "api = sbg.Api(config=config_file)"
   ]
  },
  {
   "cell_type": "markdown",
   "metadata": {},
   "source": [
    "## List my files and detail the first one\n",
    "First, we'll list all of our projects. Then, we'll list all of our files in one project. Lastly, we'll get more information on the first file in our project. A **detail**-call for files returns the following attributes:\n",
    "* **`created_on`,** the file creation date\n",
    "* **`id`,** the _Unique_ identifier for the file\n",
    "* **`name`,** the name of the file, note this is metadata and *can be changed*\n",
    "* **`href`,** the address<sup>1</sup> of the file\n",
    "* **`modified_on`,** file modification date\n",
    "* **`metadata`,** the dictionary of metadata\n",
    "* **`origin`,**  If the file is an output file, this attribute will link back to the **task** which generated the file.\n",
    "* **`project`,** Project the file is in\n",
    "* **size** file size in bytes\n",
    "\n",
    "The **metadata** dictionary contains all metadata properties. For files on the Seven Bridges Platform, metadata is **mutable**.\n",
    "\n",
    "<sup>1</sup> This is the address where, by using API, you can get this resource."
   ]
  },
  {
   "cell_type": "code",
   "execution_count": null,
   "metadata": {
    "collapsed": false
   },
   "outputs": [],
   "source": [
    "# [USER INPUT] Set project name and file (f_) index here:\n",
    "project_name = 'Life is Beautiful'                          \n",
    "f_index = 0\n",
    "\n",
    "\n",
    "# LIST all projects and check for name match\n",
    "my_project = [p for p in api.projects.query(limit=100).all() \n",
    "              if p.name == project_name]   \n",
    "\n",
    "if not my_project:    # exploit fact that empty list is False, {list, tuple, etc} is True\n",
    "    print(\"\"\"\"Project {} does not exist, \n",
    "    please check spelling (especially trailing spaces)\"\"\".format(\n",
    "        project_name)) \n",
    "    raise KeyboardInterrupt\n",
    "else:\n",
    "    my_project = my_project[0]\n",
    "    # list the files in the target project\n",
    "    my_files = [f for f in api.files.query(my_project.id).all()]\n",
    "    # get details of one file inside the project\n",
    "    single_file = api.files.get(id = my_files[f_index].id)\n",
    "    print('You have selected file {} (size {} [bytes]). \\n'.format(\n",
    "        single_file.name, single_file.size))"
   ]
  },
  {
   "cell_type": "markdown",
   "metadata": {},
   "source": [
    "## Additional Information\n",
    "Detailed documentation of this particular REST architectural style request is available [here](http://docs.sevenbridges.com/docs/get-file-details)."
   ]
  }
 ],
 "metadata": {
  "kernelspec": {
   "display_name": "Python 2",
   "language": "python",
   "name": "python2"
  },
  "language_info": {
   "codemirror_mode": {
    "name": "ipython",
    "version": 2
   },
   "file_extension": ".py",
   "mimetype": "text/x-python",
   "name": "python",
   "nbconvert_exporter": "python",
   "pygments_lexer": "ipython2",
   "version": "2.7.12"
  }
 },
 "nbformat": 4,
 "nbformat_minor": 0
}
